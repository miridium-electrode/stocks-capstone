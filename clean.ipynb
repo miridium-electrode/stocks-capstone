{
 "cells": [
  {
   "cell_type": "markdown",
   "metadata": {},
   "source": [
    "# Import Stuff"
   ]
  },
  {
   "cell_type": "code",
   "execution_count": null,
   "metadata": {},
   "outputs": [],
   "source": [
    "import pandas as pd\n",
    "pd.set_option('display.max_columns', None)"
   ]
  },
  {
   "cell_type": "code",
   "execution_count": null,
   "metadata": {},
   "outputs": [],
   "source": [
    "stocks = pd.read_csv('aapl/static_3_years_stock.csv')"
   ]
  },
  {
   "cell_type": "code",
   "execution_count": null,
   "metadata": {},
   "outputs": [],
   "source": [
    "income = pd.read_csv('aapl/static_3_years_income.csv')\n",
    "income.isnull().sum()"
   ]
  },
  {
   "cell_type": "code",
   "execution_count": null,
   "metadata": {},
   "outputs": [],
   "source": [
    "income_ignored_columns = ['investmentIncomeNet', 'depreciation']\n",
    "income_mod = income.drop(income_ignored_columns, axis=1)\n",
    "income_mod = income_mod.fillna(0)\n",
    "income_mod"
   ]
  },
  {
   "cell_type": "code",
   "execution_count": null,
   "metadata": {},
   "outputs": [],
   "source": [
    "balance = pd.read_csv('aapl/static_3_years_balance_sheet.csv')\n",
    "balance.isnull().sum()"
   ]
  },
  {
   "cell_type": "code",
   "execution_count": null,
   "metadata": {},
   "outputs": [],
   "source": [
    "balance_ignored_columns = [\n",
    "    'intangibleAssets', \n",
    "    'intangibleAssetsExcludingGoodwill', \n",
    "    'goodwill', \n",
    "    'treasuryStock'\n",
    "]\n",
    "balance_modified = balance.drop(balance_ignored_columns, axis=1)\n",
    "balance_modified = balance_modified.fillna(0)\n",
    "balance_modified"
   ]
  },
  {
   "cell_type": "code",
   "execution_count": null,
   "metadata": {},
   "outputs": [],
   "source": [
    "cash_flow = pd.read_csv('aapl/static_3_years_cash_flow.csv')\n",
    "cash_flow.isnull().sum()"
   ]
  },
  {
   "cell_type": "code",
   "execution_count": null,
   "metadata": {},
   "outputs": [],
   "source": [
    "cash_flow_ignored_columns = [\n",
    "    'proceedsFromOperatingActivities', \n",
    "    'paymentsForRepurchaseOfPreferredStock', \n",
    "    'dividendPayoutPreferredStock', \n",
    "    'proceedsFromIssuanceOfPreferredStock', \n",
    "    'proceedsFromSaleOfTreasuryStock', \n",
    "    'changeInExchangeRate'\n",
    "]\n",
    "cash_flow_modified = cash_flow.drop(cash_flow_ignored_columns, axis=1)\n",
    "cash_flow_modified = cash_flow_modified.fillna(0)\n",
    "cash_flow_modified"
   ]
  },
  {
   "cell_type": "code",
   "execution_count": null,
   "metadata": {},
   "outputs": [],
   "source": [
    "sp500 = pd.read_csv('static_3_years_sp500.csv')\n",
    "sp500.isnull().sum()"
   ]
  },
  {
   "cell_type": "code",
   "execution_count": null,
   "metadata": {},
   "outputs": [],
   "source": [
    "gdp = pd.read_csv('gdp_worldbank/usa_gdp.csv')\n",
    "gdp.isnull().sum()"
   ]
  }
 ],
 "metadata": {
  "kernelspec": {
   "display_name": ".venv",
   "language": "python",
   "name": "python3"
  },
  "language_info": {
   "codemirror_mode": {
    "name": "ipython",
    "version": 3
   },
   "file_extension": ".py",
   "mimetype": "text/x-python",
   "name": "python",
   "nbconvert_exporter": "python",
   "pygments_lexer": "ipython3",
   "version": "3.11.5"
  }
 },
 "nbformat": 4,
 "nbformat_minor": 2
}
