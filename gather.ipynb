{
 "cells": [
  {
   "cell_type": "markdown",
   "metadata": {},
   "source": [
    "# Global Import"
   ]
  },
  {
   "cell_type": "code",
   "execution_count": null,
   "metadata": {},
   "outputs": [],
   "source": [
    "import pandas as pd"
   ]
  },
  {
   "cell_type": "code",
   "execution_count": null,
   "metadata": {},
   "outputs": [],
   "source": [
    "import os\n",
    "from dotenv import load_dotenv\n",
    "load_dotenv()\n",
    "alpha_key = os.getenv('ALPHA_VANTAGE_API_KEY')\n",
    "rapid_key = os.getenv('RAPIDAPI_API_KEY')"
   ]
  },
  {
   "cell_type": "markdown",
   "metadata": {},
   "source": [
    "# Mengumpulkan data time series"
   ]
  },
  {
   "cell_type": "code",
   "execution_count": null,
   "metadata": {},
   "outputs": [],
   "source": [
    "from alpha_vantage.timeseries import TimeSeries"
   ]
  },
  {
   "cell_type": "code",
   "execution_count": null,
   "metadata": {},
   "outputs": [],
   "source": [
    "ts = TimeSeries(rapid_key, rapidapi=True, output_format='pandas')\n",
    "apple_montly_adjusted_data, apple_monthly_adjusted_meta_data = ts.get_monthly_adjusted(symbol='AAPL')\n",
    "# apple_daily_stock_data, apple_daily_stock_meta_data = ts.get_daily(symbol='AAPL', outputsize='full')"
   ]
  },
  {
   "cell_type": "markdown",
   "metadata": {},
   "source": [
    "## Mendapatkan data selama 3 tahun"
   ]
  },
  {
   "cell_type": "code",
   "execution_count": null,
   "metadata": {},
   "outputs": [],
   "source": [
    "# apple_montly_adjusted_data.iloc[:38]\n",
    "# apple_montly_adjusted_data_3_years = apple_montly_adjusted_data.iloc[:38]\n",
    "# apple_montly_adjusted_data_3_years = apple_montly_adjusted_data_3_years.iloc[::-1]\n",
    "# apple_montly_adjusted_data_3_years = apple_montly_adjusted_data_3_years.rename(columns={\n",
    "#     '1. open': 'open',\n",
    "#     '2. high': 'high',\n",
    "#     '3. low': 'low',\n",
    "#     '4. close': 'close',\n",
    "#     '5. adjusted close': 'adjusted close',\n",
    "#     '6. volume': 'volume',\n",
    "#     '7. dividend amount': 'dividend amount'\n",
    "# })\n",
    "# apple_montly_adjusted_data_3_years.to_csv('aapl/static_3_years_monthly_stock_adjusted.csv')"
   ]
  },
  {
   "cell_type": "code",
   "execution_count": null,
   "metadata": {},
   "outputs": [],
   "source": [
    "stock_data_720_days = pd.read_csv('static_3_years_stock.csv')\n",
    "stock_data_720_days"
   ]
  },
  {
   "cell_type": "markdown",
   "metadata": {},
   "source": [
    "# Financial Statement"
   ]
  },
  {
   "cell_type": "code",
   "execution_count": null,
   "metadata": {},
   "outputs": [],
   "source": [
    "from alpha_vantage.fundamentaldata import FundamentalData"
   ]
  },
  {
   "cell_type": "markdown",
   "metadata": {},
   "source": [
    "## fundamental data class"
   ]
  },
  {
   "cell_type": "code",
   "execution_count": null,
   "metadata": {},
   "outputs": [],
   "source": [
    "fd = FundamentalData(rapid_key, rapidapi=True, output_format='pandas')"
   ]
  },
  {
   "cell_type": "markdown",
   "metadata": {},
   "source": [
    "### Income Statement"
   ]
  },
  {
   "cell_type": "code",
   "execution_count": null,
   "metadata": {},
   "outputs": [],
   "source": [
    "apple_income_data, apple_income_meta_data = fd.get_income_statement_quarterly(symbol='AAPL')"
   ]
  },
  {
   "cell_type": "code",
   "execution_count": null,
   "metadata": {},
   "outputs": [],
   "source": [
    "# apple_income_data[['fiscalDateEnding']]\n",
    "apple_3_years_income = apple_income_data[\n",
    "    (apple_income_data['fiscalDateEnding'] >= '2021-03-31') & \n",
    "    (apple_income_data['fiscalDateEnding'] <= '2023-12-31')]\n",
    "apple_3_years_income.to_csv('aapl/static_3_years_income.csv')"
   ]
  },
  {
   "cell_type": "markdown",
   "metadata": {},
   "source": [
    "### Balance sheet"
   ]
  },
  {
   "cell_type": "code",
   "execution_count": null,
   "metadata": {},
   "outputs": [],
   "source": [
    "apple_balance_sheet, apple_balance_sheet_meta_data = fd.get_balance_sheet_quarterly(symbol='AAPL')"
   ]
  },
  {
   "cell_type": "code",
   "execution_count": null,
   "metadata": {},
   "outputs": [],
   "source": [
    "apple_3_years_balance_sheet = apple_balance_sheet[\n",
    "    (apple_balance_sheet['fiscalDateEnding'] >= '2021-03-31') &\n",
    "    (apple_balance_sheet['fiscalDateEnding'] <= '2023-12-31')\n",
    "]\n",
    "apple_3_years_balance_sheet.to_csv('aapl/static_3_years_balance_sheet.csv')"
   ]
  },
  {
   "cell_type": "markdown",
   "metadata": {},
   "source": [
    "### Cash Flow"
   ]
  },
  {
   "cell_type": "code",
   "execution_count": null,
   "metadata": {},
   "outputs": [],
   "source": [
    "apple_cash_flow, apple_cash_flow_meta_data = fd.get_cash_flow_quarterly(symbol='AAPL')\n",
    "apple_cash_flow.head()"
   ]
  },
  {
   "cell_type": "code",
   "execution_count": null,
   "metadata": {},
   "outputs": [],
   "source": [
    "apple_3_years_cash_flow = apple_cash_flow[\n",
    "    (apple_cash_flow['fiscalDateEnding'] >= '2021-03-31') &\n",
    "    (apple_cash_flow['fiscalDateEnding'] <= '2023-12-31')\n",
    "]\n",
    "\n",
    "apple_3_years_cash_flow.to_csv('aapl/static_3_years_cash_flow.csv')"
   ]
  },
  {
   "cell_type": "markdown",
   "metadata": {},
   "source": [
    "# S & P 500 data"
   ]
  },
  {
   "cell_type": "code",
   "execution_count": null,
   "metadata": {},
   "outputs": [],
   "source": [
    "import yfinance as yf\n",
    "\n",
    "sp500_ticker = '^GSPC'\n",
    "sp500_data = yf.download(sp500_ticker, start='2021-01-01', end='2024-02-16', interval='1mo')\n",
    "# sp500_data.to_csv('static_3_years_sp500_monthly.csv')"
   ]
  },
  {
   "cell_type": "markdown",
   "metadata": {},
   "source": [
    "# Economic Indicator"
   ]
  },
  {
   "cell_type": "markdown",
   "metadata": {},
   "source": [
    "## USA GDP"
   ]
  },
  {
   "cell_type": "code",
   "execution_count": null,
   "metadata": {},
   "outputs": [],
   "source": [
    "raw_gdp = pd.read_csv('gdp_worldbank/API_NY.GDP.MKTP.CD_DS2_en_csv_v2_6547296.csv')\n",
    "world_gdp = raw_gdp.loc[:, ~raw_gdp.columns.isin(['Indicator Code', 'Country Name'])]\n",
    "raw_usa_gdp = world_gdp.loc[(world_gdp['Country Code'] == 'USA')]\n",
    "usa_gdp_column_value = raw_usa_gdp.loc[:, ~raw_usa_gdp.columns.isin(['Country Code', 'Indicator Name'])]\n",
    "usa_gdp = usa_gdp_column_value.transpose()\n",
    "usa_gdp['year'] = usa_gdp.index\n",
    "usa_gdp.reset_index(drop=True)\n",
    "usa_gdp = usa_gdp.reset_index(drop=True)\n",
    "usa_gdp = usa_gdp.rename(columns={251: 'gdp'})\n",
    "usa_gdp = usa_gdp.drop([63])\n",
    "usa_gdp.to_csv('gdp_worldbank/usa_gdp.csv')\n"
   ]
  },
  {
   "cell_type": "markdown",
   "metadata": {},
   "source": [
    "## USA GDP PPP"
   ]
  },
  {
   "cell_type": "code",
   "execution_count": null,
   "metadata": {},
   "outputs": [],
   "source": [
    "raw_gdp_ppp = pd.read_csv('gdp_ppp_worldbank/API_NY.GDP.MKTP.PP.CD_DS2_en_csv_v2_6544101.csv')\n",
    "raw_gdp_ppp_usa = raw_gdp_ppp.loc[(raw_gdp_ppp[\"Country Code\"] == \"USA\")]\n",
    "raw_gdp_ppp_usa = raw_gdp_ppp_usa.loc[:, ~raw_gdp_ppp_usa.columns.isin(['Country Name', 'Country Code', 'Indicator Name', 'Indicator Code'])]\n",
    "raw_gdp_ppp_usa = raw_gdp_ppp_usa.transpose()\n",
    "raw_gdp_ppp_usa['year'] = raw_gdp_ppp_usa.index\n",
    "raw_gdp_ppp_usa = raw_gdp_ppp_usa.reset_index(drop=True)\n",
    "raw_gdp_ppp_usa = raw_gdp_ppp_usa.rename(columns={251:'gdp'})\n",
    "raw_gdp_ppp_usa = raw_gdp_ppp_usa.drop([63])\n",
    "raw_gdp_ppp_usa = raw_gdp_ppp_usa.fillna(0)\n",
    "raw_gdp_ppp_usa.to_csv('gdp_ppp_worldbank/clean_usa_gdp_ppp.csv')"
   ]
  },
  {
   "cell_type": "markdown",
   "metadata": {},
   "source": [
    "## US Inflation"
   ]
  },
  {
   "cell_type": "code",
   "execution_count": null,
   "metadata": {},
   "outputs": [],
   "source": [
    "raw_inflation = pd.read_csv('inflation_cpi_worldbank/API_FP.CPI.TOTL.ZG_DS2_en_csv_v2_6547525.csv')\n",
    "inflation_usa = raw_inflation.loc[(raw_inflation['Country Code'] == 'USA')] \n",
    "inflation_usa = inflation_usa.loc[:, ~inflation_usa.columns.isin(['Country Name', 'Country Code', 'Indicator Name', 'Indicator Code'])]\n",
    "inflation_usa = inflation_usa.transpose()\n",
    "inflation_usa['year'] = inflation_usa.index\n",
    "inflation_usa = inflation_usa.reset_index(drop=True)\n",
    "inflation_usa = inflation_usa.rename(columns={251: 'inflation'})\n",
    "inflation_usa = inflation_usa.drop([63])\n",
    "inflation_usa.to_csv('inflation_cpi_worldbank/clean_usa_inflation.csv')"
   ]
  }
 ],
 "metadata": {
  "kernelspec": {
   "display_name": ".venv",
   "language": "python",
   "name": "python3"
  },
  "language_info": {
   "codemirror_mode": {
    "name": "ipython",
    "version": 3
   },
   "file_extension": ".py",
   "mimetype": "text/x-python",
   "name": "python",
   "nbconvert_exporter": "python",
   "pygments_lexer": "ipython3",
   "version": "3.11.5"
  }
 },
 "nbformat": 4,
 "nbformat_minor": 2
}
