{
 "cells": [
  {
   "cell_type": "code",
   "execution_count": null,
   "metadata": {},
   "outputs": [],
   "source": [
    "import numpy as np\n",
    "import pandas as pd\n",
    "pd.set_option('display.max_columns', None)"
   ]
  },
  {
   "cell_type": "code",
   "execution_count": null,
   "metadata": {},
   "outputs": [],
   "source": [
    "apple = pd.read_csv('aapl/price_data.csv')\n",
    "\n",
    "amazon = pd.read_csv('amzn/price_data.csv')\n",
    "\n",
    "google = pd.read_csv('googl/price_data.csv')\n",
    "\n",
    "meta = pd.read_csv('meta/price_data.csv')\n",
    "\n",
    "microsoft = pd.read_csv('msft/price_data.csv')\n",
    "\n",
    "nvidia = pd.read_csv('nvda/price_data.csv')\n",
    "\n",
    "def calculate_return_rate(starting_price: float, ending_price: float):\n",
    "    return (ending_price - starting_price) / starting_price"
   ]
  },
  {
   "cell_type": "code",
   "execution_count": null,
   "metadata": {},
   "outputs": [],
   "source": [
    "closing_prices = pd.DataFrame({\n",
    "    'date': apple['date'],\n",
    "    'apple': apple['adjusted close'],\n",
    "    'amazon': amazon['adjusted close'],\n",
    "    'google': google['adjusted close'],\n",
    "    'meta': meta['adjusted close'],\n",
    "    'nvidia': nvidia['adjusted close'],\n",
    "    'microsoft': microsoft['adjusted close']\n",
    "})\n",
    "\n",
    "melted = closing_prices.melt(id_vars='date', value_vars=['apple', 'amazon', 'google', 'meta', 'nvidia', 'microsoft'])\n",
    "closing_prices.tail()"
   ]
  },
  {
   "cell_type": "code",
   "execution_count": null,
   "metadata": {},
   "outputs": [],
   "source": [
    "import seaborn as sns\n",
    "import matplotlib.pyplot as plt\n",
    "g = sns.lineplot(data=melted, x='date', y='value', hue='variable')\n",
    "g.set_xticklabels(labels=g.get_xticklabels(), rotation=90)\n",
    "plt.show()"
   ]
  },
  {
   "cell_type": "code",
   "execution_count": null,
   "metadata": {},
   "outputs": [],
   "source": [
    "apple.head()\n",
    "ar = calculate_return_rate(apple['adjusted close'].iloc[0], apple['adjusted close'].iloc[-1])\n",
    "azr = calculate_return_rate(amazon['adjusted close'].iloc[0], amazon['adjusted close'].iloc[-1])\n",
    "gor = calculate_return_rate(google['adjusted close'].iloc[0], google['adjusted close'].iloc[-1])\n",
    "metr = calculate_return_rate(meta['adjusted close'].iloc[0], meta['adjusted close'].iloc[-1])\n",
    "nvr = calculate_return_rate(nvidia['adjusted close'].iloc[0], nvidia['adjusted close'].iloc[-1])\n",
    "mir = calculate_return_rate(microsoft['adjusted close'].iloc[0], microsoft['adjusted close'].iloc[-1])\n",
    "\n",
    "return_rate_by_company = [\n",
    "    ('apple', ar),\n",
    "    ('amazon', azr),\n",
    "    ('google', gor),\n",
    "    ('meta', metr),\n",
    "    ('nvidia', nvr),\n",
    "    ('microsoft', mir)\n",
    "]\n",
    "\n",
    "return_rate_pd = pd.DataFrame(data=return_rate_by_company, columns=['security', 'return rate'])\n",
    "return_rate_pd\n",
    "\n",
    "b = sns.barplot(data=return_rate_pd, x='security', y='return rate')\n",
    "b\n"
   ]
  },
  {
   "cell_type": "code",
   "execution_count": null,
   "metadata": {},
   "outputs": [],
   "source": [
    "appl = stocks.set_index(pd.DatetimeIndex(stocks['date'].values))\n",
    "# remove date value\n",
    "# appl.drop(['date'], inplace=True, axis=1)\n",
    "# appl_monthly_return = appl['adjusted close'].pct_change()\n",
    "# appl_monthly_return = pd.DataFrame({'returns %': appl_monthly_return})\n",
    "# appl_np_return = appl_monthly_return['returns %'].dropna().to_numpy()\n",
    "# geom_mean_monthly = (np.prod((1 + appl_np_return)) ** 1/len(appl_np_return)) - 1\n",
    "# geom_mean_monthly\n",
    "ret_percentage = (appl['adjusted close'].iloc[-1] - appl['adjusted close'].iloc[0]) / appl['adjusted close'].iloc[0]\n",
    "# ret_percentage\n",
    "# 1000 + (1000 * ret_percentage)\n",
    "1000 * (1 + ret_percentage)\n",
    "# appl"
   ]
  },
  {
   "cell_type": "code",
   "execution_count": null,
   "metadata": {},
   "outputs": [],
   "source": [
    "stocks.tail()"
   ]
  },
  {
   "cell_type": "code",
   "execution_count": null,
   "metadata": {},
   "outputs": [],
   "source": [
    "sp500.tail()"
   ]
  },
  {
   "cell_type": "code",
   "execution_count": null,
   "metadata": {},
   "outputs": [],
   "source": [
    "scaler = MinMaxScaler()\n",
    "stocks['normalized_adjusted_close'] = scaler.fit_transform(stocks[['adjusted close']])\n",
    "sp500['normalized_adjusted_close'] = scaler.fit_transform(sp500[['Adj Close']])\n",
    "\n",
    "# len(stocks['normalized_adjusted_close'])\n",
    "\n"
   ]
  },
  {
   "cell_type": "code",
   "execution_count": null,
   "metadata": {},
   "outputs": [],
   "source": [
    "# len(sp500['normalized_adjusted_close'])"
   ]
  },
  {
   "cell_type": "code",
   "execution_count": null,
   "metadata": {},
   "outputs": [],
   "source": [
    "adjusted_close_data = pd.DataFrame({\n",
    "    'date': sp500['Date'],\n",
    "    'aapl': stocks['normalized_adjusted_close'],\n",
    "    'sp500': sp500['normalized_adjusted_close']\n",
    "})\n",
    "\n",
    "adjusted_close_data"
   ]
  },
  {
   "cell_type": "code",
   "execution_count": null,
   "metadata": {},
   "outputs": [],
   "source": [
    "adjusted_close_data = adjusted_close_data.melt(id_vars=['date'], value_vars=['aapl', 'sp500'])\n",
    "adjusted_close_data"
   ]
  },
  {
   "cell_type": "code",
   "execution_count": null,
   "metadata": {},
   "outputs": [],
   "source": [
    "adjusted_close_data.rename(columns={'value': 'adjusted close price'}, inplace=True)\n",
    "sns.lineplot(data=adjusted_close_data, x='date', y='adjusted close price', hue='variable')"
   ]
  },
  {
   "cell_type": "code",
   "execution_count": 1,
   "metadata": {},
   "outputs": [
    {
     "data": {
      "text/html": [
       "<div>\n",
       "<style scoped>\n",
       "    .dataframe tbody tr th:only-of-type {\n",
       "        vertical-align: middle;\n",
       "    }\n",
       "\n",
       "    .dataframe tbody tr th {\n",
       "        vertical-align: top;\n",
       "    }\n",
       "\n",
       "    .dataframe thead th {\n",
       "        text-align: right;\n",
       "    }\n",
       "</style>\n",
       "<table border=\"1\" class=\"dataframe\">\n",
       "  <thead>\n",
       "    <tr style=\"text-align: right;\">\n",
       "      <th></th>\n",
       "      <th>symbol</th>\n",
       "      <th>date</th>\n",
       "      <th>price</th>\n",
       "    </tr>\n",
       "  </thead>\n",
       "  <tbody>\n",
       "    <tr>\n",
       "      <th>246</th>\n",
       "      <td>IBM</td>\n",
       "      <td>2000-01-01</td>\n",
       "      <td>100.52</td>\n",
       "    </tr>\n",
       "    <tr>\n",
       "      <th>247</th>\n",
       "      <td>IBM</td>\n",
       "      <td>2000-02-01</td>\n",
       "      <td>92.11</td>\n",
       "    </tr>\n",
       "    <tr>\n",
       "      <th>248</th>\n",
       "      <td>IBM</td>\n",
       "      <td>2000-03-01</td>\n",
       "      <td>106.11</td>\n",
       "    </tr>\n",
       "    <tr>\n",
       "      <th>249</th>\n",
       "      <td>IBM</td>\n",
       "      <td>2000-04-01</td>\n",
       "      <td>99.95</td>\n",
       "    </tr>\n",
       "    <tr>\n",
       "      <th>250</th>\n",
       "      <td>IBM</td>\n",
       "      <td>2000-05-01</td>\n",
       "      <td>96.31</td>\n",
       "    </tr>\n",
       "    <tr>\n",
       "      <th>...</th>\n",
       "      <td>...</td>\n",
       "      <td>...</td>\n",
       "      <td>...</td>\n",
       "    </tr>\n",
       "    <tr>\n",
       "      <th>364</th>\n",
       "      <td>IBM</td>\n",
       "      <td>2009-11-01</td>\n",
       "      <td>125.79</td>\n",
       "    </tr>\n",
       "    <tr>\n",
       "      <th>365</th>\n",
       "      <td>IBM</td>\n",
       "      <td>2009-12-01</td>\n",
       "      <td>130.32</td>\n",
       "    </tr>\n",
       "    <tr>\n",
       "      <th>366</th>\n",
       "      <td>IBM</td>\n",
       "      <td>2010-01-01</td>\n",
       "      <td>121.85</td>\n",
       "    </tr>\n",
       "    <tr>\n",
       "      <th>367</th>\n",
       "      <td>IBM</td>\n",
       "      <td>2010-02-01</td>\n",
       "      <td>127.16</td>\n",
       "    </tr>\n",
       "    <tr>\n",
       "      <th>368</th>\n",
       "      <td>IBM</td>\n",
       "      <td>2010-03-01</td>\n",
       "      <td>125.55</td>\n",
       "    </tr>\n",
       "  </tbody>\n",
       "</table>\n",
       "<p>123 rows × 3 columns</p>\n",
       "</div>"
      ],
      "text/plain": [
       "    symbol       date   price\n",
       "246    IBM 2000-01-01  100.52\n",
       "247    IBM 2000-02-01   92.11\n",
       "248    IBM 2000-03-01  106.11\n",
       "249    IBM 2000-04-01   99.95\n",
       "250    IBM 2000-05-01   96.31\n",
       "..     ...        ...     ...\n",
       "364    IBM 2009-11-01  125.79\n",
       "365    IBM 2009-12-01  130.32\n",
       "366    IBM 2010-01-01  121.85\n",
       "367    IBM 2010-02-01  127.16\n",
       "368    IBM 2010-03-01  125.55\n",
       "\n",
       "[123 rows x 3 columns]"
      ]
     },
     "execution_count": 1,
     "metadata": {},
     "output_type": "execute_result"
    }
   ],
   "source": [
    "from vega_datasets import data\n",
    "\n",
    "s = data.stocks()\n",
    "s[s['symbol'] == 'IBM']"
   ]
  }
 ],
 "metadata": {
  "kernelspec": {
   "display_name": ".venv",
   "language": "python",
   "name": "python3"
  },
  "language_info": {
   "codemirror_mode": {
    "name": "ipython",
    "version": 3
   },
   "file_extension": ".py",
   "mimetype": "text/x-python",
   "name": "python",
   "nbconvert_exporter": "python",
   "pygments_lexer": "ipython3",
   "version": "3.11.5"
  }
 },
 "nbformat": 4,
 "nbformat_minor": 2
}
