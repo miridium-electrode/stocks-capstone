{
 "cells": [
  {
   "cell_type": "code",
   "execution_count": null,
   "metadata": {},
   "outputs": [],
   "source": [
    "import numpy as np\n",
    "import pandas as pd\n",
    "pd.set_option('display.max_columns', None)\n",
    "import seaborn as sns"
   ]
  },
  {
   "cell_type": "code",
   "execution_count": null,
   "metadata": {},
   "outputs": [],
   "source": [
    "# load stock data\n",
    "stocks = pd.read_csv('aapl/static_3_years_monthly_stock_adjusted.csv')\n",
    "\n",
    "# load and clean income statement data\n",
    "income = pd.read_csv('aapl/static_3_years_income.csv')\n",
    "income_ignored_columns = ['investmentIncomeNet', 'depreciation']\n",
    "income = income.drop(income_ignored_columns, axis=1)\n",
    "income = income.fillna(0)\n",
    "\n",
    "# load and clean balance sheet data\n",
    "balance = pd.read_csv('aapl/static_3_years_balance_sheet.csv')\n",
    "balance_ignored_columns = [\n",
    "    'intangibleAssets', \n",
    "    'intangibleAssetsExcludingGoodwill', \n",
    "    'goodwill', \n",
    "    'treasuryStock'\n",
    "]\n",
    "balance = balance.drop(balance_ignored_columns, axis=1)\n",
    "balance = balance.fillna(0)\n",
    "\n",
    "#load and clean cash flow data\n",
    "cash_flow = pd.read_csv('aapl/static_3_years_cash_flow.csv')\n",
    "cash_flow_ignored_columns = [\n",
    "    'proceedsFromOperatingActivities', \n",
    "    'paymentsForRepurchaseOfPreferredStock', \n",
    "    'dividendPayoutPreferredStock', \n",
    "    'proceedsFromIssuanceOfPreferredStock', \n",
    "    'proceedsFromSaleOfTreasuryStock', \n",
    "    'changeInExchangeRate'\n",
    "]\n",
    "cash_flow = cash_flow.drop(cash_flow_ignored_columns, axis=1)\n",
    "cash_flow = cash_flow.fillna(0)\n",
    "\n",
    "# load s&p 500 data\n",
    "sp500 = pd.read_csv('static_3_years_sp500.csv')\n",
    "\n",
    "# load usa data\n",
    "gdp = pd.read_csv('gdp_worldbank/usa_gdp.csv')\n",
    "\n",
    "# load usa cpi data\n",
    "inflation_cpi = pd.read_csv('inflation_cpi_worldbank/usa_inflation.csv')"
   ]
  },
  {
   "cell_type": "code",
   "execution_count": null,
   "metadata": {},
   "outputs": [],
   "source": [
    "stocks.head()\n",
    "stocks_graph = stocks[['date', 'adjusted close']]\n",
    "stocks_graph = stocks_graph.rename(columns={'adjusted close': 'closing price in $'})\n",
    "# stocks_graph\n",
    "sns.lineplot(data=stocks_graph, x='date', y='closing price in $')"
   ]
  },
  {
   "cell_type": "code",
   "execution_count": null,
   "metadata": {},
   "outputs": [],
   "source": [
    "appl = stocks.set_index(pd.DatetimeIndex(stocks['date'].values))\n",
    "# remove date value\n",
    "# appl.drop(['date'], inplace=True, axis=1)\n",
    "# appl_monthly_return = appl['adjusted close'].pct_change()\n",
    "# appl_monthly_return = pd.DataFrame({'returns %': appl_monthly_return})\n",
    "# appl_np_return = appl_monthly_return['returns %'].dropna().to_numpy()\n",
    "# geom_mean_monthly = (np.prod((1 + appl_np_return)) ** 1/len(appl_np_return)) - 1\n",
    "# geom_mean_monthly\n",
    "# ret_percentage = (appl['adjusted close'].iloc[-1] - appl['adjusted close'].iloc[0]) / appl['adjusted close'].iloc[0]\n",
    "# 1000 + (1000 * ret_percentage)\n",
    "appl"
   ]
  }
 ],
 "metadata": {
  "kernelspec": {
   "display_name": ".venv",
   "language": "python",
   "name": "python3"
  },
  "language_info": {
   "codemirror_mode": {
    "name": "ipython",
    "version": 3
   },
   "file_extension": ".py",
   "mimetype": "text/x-python",
   "name": "python",
   "nbconvert_exporter": "python",
   "pygments_lexer": "ipython3",
   "version": "3.11.5"
  }
 },
 "nbformat": 4,
 "nbformat_minor": 2
}
