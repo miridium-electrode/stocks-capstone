{
 "cells": [
  {
   "cell_type": "markdown",
   "metadata": {},
   "source": [
    "# Global Import"
   ]
  },
  {
   "cell_type": "code",
   "execution_count": 3,
   "metadata": {},
   "outputs": [
    {
     "name": "stderr",
     "output_type": "stream",
     "text": [
      "C:\\Users\\arfe\\AppData\\Local\\Temp\\ipykernel_16828\\4080736814.py:1: DeprecationWarning: \n",
      "Pyarrow will become a required dependency of pandas in the next major release of pandas (pandas 3.0),\n",
      "(to allow more performant data types, such as the Arrow string type, and better interoperability with other libraries)\n",
      "but was not found to be installed on your system.\n",
      "If this would cause problems for you,\n",
      "please provide us feedback at https://github.com/pandas-dev/pandas/issues/54466\n",
      "        \n",
      "  import pandas as pd\n"
     ]
    }
   ],
   "source": [
    "import pandas as pd"
   ]
  },
  {
   "cell_type": "code",
   "execution_count": 4,
   "metadata": {},
   "outputs": [],
   "source": [
    "import os\n",
    "from dotenv import load_dotenv\n",
    "load_dotenv()\n",
    "alpha_key = os.getenv('ALPHA_VANTAGE_API_KEY')\n",
    "rapid_key = os.getenv('RAPIDAPI_API_KEY')"
   ]
  },
  {
   "cell_type": "markdown",
   "metadata": {},
   "source": [
    "# Mengumpulkan data time series"
   ]
  },
  {
   "cell_type": "code",
   "execution_count": 5,
   "metadata": {},
   "outputs": [],
   "source": [
    "# from alpha_vantage.timeseries import TimeSeries"
   ]
  },
  {
   "cell_type": "code",
   "execution_count": 6,
   "metadata": {},
   "outputs": [],
   "source": [
    "# ts = TimeSeries(rapid_key, rapidapi=True, output_format='pandas')\n",
    "# apple_daily_stock_data, apple_daily_stock_meta_data = ts.get_daily(symbol='AAPL', outputsize='full')"
   ]
  },
  {
   "cell_type": "markdown",
   "metadata": {},
   "source": [
    "## Mendapatkan data selama 3 tahun"
   ]
  },
  {
   "cell_type": "code",
   "execution_count": 8,
   "metadata": {},
   "outputs": [
    {
     "data": {
      "text/html": [
       "<div>\n",
       "<style scoped>\n",
       "    .dataframe tbody tr th:only-of-type {\n",
       "        vertical-align: middle;\n",
       "    }\n",
       "\n",
       "    .dataframe tbody tr th {\n",
       "        vertical-align: top;\n",
       "    }\n",
       "\n",
       "    .dataframe thead th {\n",
       "        text-align: right;\n",
       "    }\n",
       "</style>\n",
       "<table border=\"1\" class=\"dataframe\">\n",
       "  <thead>\n",
       "    <tr style=\"text-align: right;\">\n",
       "      <th></th>\n",
       "      <th>date</th>\n",
       "      <th>1. open</th>\n",
       "      <th>2. high</th>\n",
       "      <th>3. low</th>\n",
       "      <th>4. close</th>\n",
       "      <th>5. volume</th>\n",
       "    </tr>\n",
       "  </thead>\n",
       "  <tbody>\n",
       "    <tr>\n",
       "      <th>0</th>\n",
       "      <td>2024-02-06</td>\n",
       "      <td>186.860</td>\n",
       "      <td>189.3100</td>\n",
       "      <td>186.7695</td>\n",
       "      <td>189.30</td>\n",
       "      <td>43490759.0</td>\n",
       "    </tr>\n",
       "    <tr>\n",
       "      <th>1</th>\n",
       "      <td>2024-02-05</td>\n",
       "      <td>188.150</td>\n",
       "      <td>189.2500</td>\n",
       "      <td>185.8400</td>\n",
       "      <td>187.68</td>\n",
       "      <td>69668820.0</td>\n",
       "    </tr>\n",
       "    <tr>\n",
       "      <th>2</th>\n",
       "      <td>2024-02-02</td>\n",
       "      <td>179.860</td>\n",
       "      <td>187.3300</td>\n",
       "      <td>179.2500</td>\n",
       "      <td>185.85</td>\n",
       "      <td>102551680.0</td>\n",
       "    </tr>\n",
       "    <tr>\n",
       "      <th>3</th>\n",
       "      <td>2024-02-01</td>\n",
       "      <td>183.985</td>\n",
       "      <td>186.9500</td>\n",
       "      <td>183.8200</td>\n",
       "      <td>186.86</td>\n",
       "      <td>64885408.0</td>\n",
       "    </tr>\n",
       "    <tr>\n",
       "      <th>4</th>\n",
       "      <td>2024-01-31</td>\n",
       "      <td>187.040</td>\n",
       "      <td>187.0950</td>\n",
       "      <td>184.3500</td>\n",
       "      <td>184.40</td>\n",
       "      <td>55467803.0</td>\n",
       "    </tr>\n",
       "    <tr>\n",
       "      <th>...</th>\n",
       "      <td>...</td>\n",
       "      <td>...</td>\n",
       "      <td>...</td>\n",
       "      <td>...</td>\n",
       "      <td>...</td>\n",
       "      <td>...</td>\n",
       "    </tr>\n",
       "    <tr>\n",
       "      <th>715</th>\n",
       "      <td>2021-04-05</td>\n",
       "      <td>123.870</td>\n",
       "      <td>126.1601</td>\n",
       "      <td>123.0700</td>\n",
       "      <td>125.90</td>\n",
       "      <td>88651175.0</td>\n",
       "    </tr>\n",
       "    <tr>\n",
       "      <th>716</th>\n",
       "      <td>2021-04-01</td>\n",
       "      <td>123.660</td>\n",
       "      <td>124.1800</td>\n",
       "      <td>122.4900</td>\n",
       "      <td>123.00</td>\n",
       "      <td>75089134.0</td>\n",
       "    </tr>\n",
       "    <tr>\n",
       "      <th>717</th>\n",
       "      <td>2021-03-31</td>\n",
       "      <td>121.650</td>\n",
       "      <td>123.5200</td>\n",
       "      <td>121.1500</td>\n",
       "      <td>122.15</td>\n",
       "      <td>118323826.0</td>\n",
       "    </tr>\n",
       "    <tr>\n",
       "      <th>718</th>\n",
       "      <td>2021-03-30</td>\n",
       "      <td>120.110</td>\n",
       "      <td>120.4031</td>\n",
       "      <td>118.8600</td>\n",
       "      <td>119.90</td>\n",
       "      <td>85671919.0</td>\n",
       "    </tr>\n",
       "    <tr>\n",
       "      <th>719</th>\n",
       "      <td>2021-03-29</td>\n",
       "      <td>121.650</td>\n",
       "      <td>122.5800</td>\n",
       "      <td>120.7299</td>\n",
       "      <td>121.39</td>\n",
       "      <td>80819203.0</td>\n",
       "    </tr>\n",
       "  </tbody>\n",
       "</table>\n",
       "<p>720 rows × 6 columns</p>\n",
       "</div>"
      ],
      "text/plain": [
       "           date  1. open   2. high    3. low  4. close    5. volume\n",
       "0    2024-02-06  186.860  189.3100  186.7695    189.30   43490759.0\n",
       "1    2024-02-05  188.150  189.2500  185.8400    187.68   69668820.0\n",
       "2    2024-02-02  179.860  187.3300  179.2500    185.85  102551680.0\n",
       "3    2024-02-01  183.985  186.9500  183.8200    186.86   64885408.0\n",
       "4    2024-01-31  187.040  187.0950  184.3500    184.40   55467803.0\n",
       "..          ...      ...       ...       ...       ...          ...\n",
       "715  2021-04-05  123.870  126.1601  123.0700    125.90   88651175.0\n",
       "716  2021-04-01  123.660  124.1800  122.4900    123.00   75089134.0\n",
       "717  2021-03-31  121.650  123.5200  121.1500    122.15  118323826.0\n",
       "718  2021-03-30  120.110  120.4031  118.8600    119.90   85671919.0\n",
       "719  2021-03-29  121.650  122.5800  120.7299    121.39   80819203.0\n",
       "\n",
       "[720 rows x 6 columns]"
      ]
     },
     "execution_count": 8,
     "metadata": {},
     "output_type": "execute_result"
    }
   ],
   "source": [
    "stock_data_720_days = pd.read_csv('static_3_years_stock.csv')\n",
    "stock_data_720_days"
   ]
  },
  {
   "cell_type": "markdown",
   "metadata": {},
   "source": [
    "# Financial Statement"
   ]
  },
  {
   "cell_type": "code",
   "execution_count": null,
   "metadata": {},
   "outputs": [],
   "source": [
    "from alpha_vantage.fundamentaldata import FundamentalData"
   ]
  },
  {
   "cell_type": "markdown",
   "metadata": {},
   "source": [
    "## fundamental data class"
   ]
  },
  {
   "cell_type": "code",
   "execution_count": null,
   "metadata": {},
   "outputs": [],
   "source": [
    "fd = FundamentalData(rapid_key, rapidapi=True, output_format='pandas')"
   ]
  },
  {
   "cell_type": "markdown",
   "metadata": {},
   "source": [
    "### Income Statement"
   ]
  },
  {
   "cell_type": "code",
   "execution_count": null,
   "metadata": {},
   "outputs": [],
   "source": [
    "apple_income_data, apple_income_meta_data = fd.get_income_statement_quarterly(symbol='AAPL')"
   ]
  },
  {
   "cell_type": "code",
   "execution_count": null,
   "metadata": {},
   "outputs": [],
   "source": [
    "# apple_income_data[['fiscalDateEnding']]\n",
    "apple_3_years_income = apple_income_data[\n",
    "    (apple_income_data['fiscalDateEnding'] >= '2021-03-31') & \n",
    "    (apple_income_data['fiscalDateEnding'] <= '2023-12-31')]"
   ]
  },
  {
   "cell_type": "markdown",
   "metadata": {},
   "source": [
    "### Balance sheet"
   ]
  },
  {
   "cell_type": "code",
   "execution_count": null,
   "metadata": {},
   "outputs": [],
   "source": [
    "apple_balance_sheet, apple_balance_sheet_meta_data = fd.get_balance_sheet_quarterly(symbol='AAPL')"
   ]
  },
  {
   "cell_type": "code",
   "execution_count": null,
   "metadata": {},
   "outputs": [],
   "source": [
    "apple_3_years_balance_sheet = apple_balance_sheet[\n",
    "    (apple_balance_sheet['fiscalDateEnding'] >= '2021-03-31') &\n",
    "    (apple_balance_sheet['fiscalDateEnding'] <= '2023-12-31')\n",
    "]"
   ]
  },
  {
   "cell_type": "markdown",
   "metadata": {},
   "source": [
    "### Cash Flow"
   ]
  },
  {
   "cell_type": "code",
   "execution_count": null,
   "metadata": {},
   "outputs": [],
   "source": [
    "apple_cash_flow, apple_cash_flow_meta_data = fd.get_cash_flow_quarterly(symbol='AAPL')\n",
    "apple_cash_flow.head()"
   ]
  },
  {
   "cell_type": "code",
   "execution_count": null,
   "metadata": {},
   "outputs": [],
   "source": [
    "apple_3_years_cash_flow = apple_cash_flow[\n",
    "    (apple_cash_flow['fiscalDateEnding'] >= '2021-03-31') &\n",
    "    (apple_cash_flow['fiscalDateEnding'] <= '2023-12-31')\n",
    "]"
   ]
  },
  {
   "cell_type": "markdown",
   "metadata": {},
   "source": [
    "# S & P 500 data"
   ]
  },
  {
   "cell_type": "code",
   "execution_count": null,
   "metadata": {},
   "outputs": [],
   "source": [
    "import yfinance as yf\n",
    "\n",
    "sp500_ticker = '^GSPC'\n",
    "sp500_data = yf.download(sp500_ticker, start='2021-03-29', end='2024-02-06')"
   ]
  },
  {
   "cell_type": "markdown",
   "metadata": {},
   "source": [
    "# Economic Indicator"
   ]
  },
  {
   "cell_type": "markdown",
   "metadata": {},
   "source": [
    "## USA GDP"
   ]
  },
  {
   "cell_type": "code",
   "execution_count": null,
   "metadata": {},
   "outputs": [],
   "source": [
    "raw_gdp = pd.read_csv('gdp_worldbank/API_NY.GDP.MKTP.CD_DS2_en_csv_v2_6547296.csv')\n",
    "world_gdp = raw_gdp.loc[:, ~raw_gdp.columns.isin(['Indicator Code', 'Country Name'])]\n",
    "raw_usa_gdp = world_gdp.loc[(world_gdp['Country Code'] == 'USA')]\n",
    "usa_gdp_column_value = raw_usa_gdp.loc[:, ~raw_usa_gdp.columns.isin(['Country Code', 'Indicator Name'])]\n",
    "usa_gdp = usa_gdp_column_value.transpose()\n",
    "usa_gdp['year'] = usa_gdp.index\n",
    "usa_gdp.reset_index(drop=True)\n",
    "usa_gdp = usa_gdp.reset_index(drop=True)\n",
    "usa_gdp = usa_gdp.rename(columns={251: 'gdp'})\n",
    "usa_gdp = usa_gdp.drop([63])\n",
    "usa_gdp\n"
   ]
  },
  {
   "cell_type": "markdown",
   "metadata": {},
   "source": [
    "## USA GDP PPP"
   ]
  },
  {
   "cell_type": "code",
   "execution_count": null,
   "metadata": {},
   "outputs": [],
   "source": [
    "raw_gdp_ppp = pd.read_csv('gdp_ppp_worldbank/API_NY.GDP.MKTP.PP.CD_DS2_en_csv_v2_6544101.csv')\n",
    "raw_gdp_ppp_usa = raw_gdp_ppp.loc[(raw_gdp_ppp[\"Country Code\"] == \"USA\")]\n",
    "raw_gdp_ppp_usa = raw_gdp_ppp_usa.loc[:, ~raw_gdp_ppp_usa.columns.isin(['Country Name', 'Country Code', 'Indicator Name', 'Indicator Code'])]\n",
    "raw_gdp_ppp_usa = raw_gdp_ppp_usa.transpose()\n",
    "raw_gdp_ppp_usa['year'] = raw_gdp_ppp_usa.index\n",
    "raw_gdp_ppp_usa = raw_gdp_ppp_usa.reset_index(drop=True)\n",
    "raw_gdp_ppp_usa = raw_gdp_ppp_usa.rename(columns={251:'gdp'})\n",
    "raw_gdp_ppp_usa = raw_gdp_ppp_usa.drop([63])\n",
    "raw_gdp_ppp_usa = raw_gdp_ppp_usa.fillna(0)"
   ]
  },
  {
   "cell_type": "markdown",
   "metadata": {},
   "source": [
    "## US Inflation"
   ]
  },
  {
   "cell_type": "code",
   "execution_count": null,
   "metadata": {},
   "outputs": [],
   "source": [
    "raw_inflation = pd.read_csv('inflation_cpi_worldbank/API_FP.CPI.TOTL.ZG_DS2_en_csv_v2_6547525.csv')\n",
    "inflation_usa = raw_inflation.loc[(raw_inflation['Country Code'] == 'USA')] \n",
    "inflation_usa = inflation_usa.loc[:, ~inflation_usa.columns.isin(['Country Name', 'Country Code', 'Indicator Name', 'Indicator Code'])]\n",
    "inflation_usa = inflation_usa.transpose()\n",
    "inflation_usa['year'] = inflation_usa.index\n",
    "inflation_usa = inflation_usa.reset_index(drop=True)\n",
    "inflation_usa = inflation_usa.rename(columns={251: 'inflation'})\n",
    "inflation_usa = inflation_usa.drop([63])"
   ]
  },
  {
   "cell_type": "code",
   "execution_count": 1,
   "metadata": {},
   "outputs": [
    {
     "ename": "NameError",
     "evalue": "name 'stock_data_720_days' is not defined",
     "output_type": "error",
     "traceback": [
      "\u001b[1;31m---------------------------------------------------------------------------\u001b[0m",
      "\u001b[1;31mNameError\u001b[0m                                 Traceback (most recent call last)",
      "Cell \u001b[1;32mIn[1], line 1\u001b[0m\n\u001b[1;32m----> 1\u001b[0m \u001b[43mstock_data_720_days\u001b[49m\u001b[38;5;241m.\u001b[39mto_csv(\u001b[38;5;124m'\u001b[39m\u001b[38;5;124mstatic_3_years_stock.csv\u001b[39m\u001b[38;5;124m'\u001b[39m)\n",
      "\u001b[1;31mNameError\u001b[0m: name 'stock_data_720_days' is not defined"
     ]
    }
   ],
   "source": []
  }
 ],
 "metadata": {
  "kernelspec": {
   "display_name": ".venv",
   "language": "python",
   "name": "python3"
  },
  "language_info": {
   "codemirror_mode": {
    "name": "ipython",
    "version": 3
   },
   "file_extension": ".py",
   "mimetype": "text/x-python",
   "name": "python",
   "nbconvert_exporter": "python",
   "pygments_lexer": "ipython3",
   "version": "3.11.5"
  }
 },
 "nbformat": 4,
 "nbformat_minor": 2
}
